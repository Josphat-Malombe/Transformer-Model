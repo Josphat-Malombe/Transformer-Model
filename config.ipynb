{
 "cells": [
  {
   "cell_type": "code",
   "execution_count": null,
   "id": "dc81b31f",
   "metadata": {},
   "outputs": [],
   "source": [
    "from pathlib import Path\n",
    "def get_config():\n",
    "    return{\n",
    "        \"batch_size\":8,\n",
    "        \"num_epochs\":20,\n",
    "        \"lr\":0.0001,\n",
    "        \"seq_len\":350,\n",
    "        \"d_model\":512,\n",
    "        \"lang_src\":\"en\",\n",
    "        \"lang_tgt\":\"it\",\n",
    "        \"model_folder\":\"weights\",\n",
    "        \"model_basename\":\"tmodel\",\n",
    "        \"preload\":None,\n",
    "        \"tokenizer_file\":\"tokenizer_{0}.json\",\n",
    "        \"experiment_name\":\"runs/model\"\n",
    "    }\n",
    "\n",
    "def get_weights_file_path(config,epoch:str):\n",
    "    model_folder=config['model_folder']\n",
    "    model_basename=config['model_basename']\n",
    "    model_filename=f\"{model_basename}{epoch}.pt\"\n",
    "    return str(Path('.')/model_folder/model_filename)\n",
    "\n"
   ]
  }
 ],
 "metadata": {
  "language_info": {
   "name": "python"
  }
 },
 "nbformat": 4,
 "nbformat_minor": 5
}
