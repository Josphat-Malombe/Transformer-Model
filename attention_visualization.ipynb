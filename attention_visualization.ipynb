{
 "cells": [
  {
   "cell_type": "code",
   "execution_count": null,
   "id": "4f3f0fe4",
   "metadata": {},
   "outputs": [],
   "source": [
    "import torch\n",
    "import torch.nn as nn\n",
    "from model import build_transformer\n",
    "from config import get_config,get_weights_file_path\n",
    "from train import get_model,get_ds,greedy_decode\n",
    "import altair as alt\n",
    "import pandas as pd\n",
    "import numpy as np\n",
    "import warnings\n",
    "warnings.filterwarnings('ignore')"
   ]
  },
  {
   "cell_type": "code",
   "execution_count": 1,
   "id": "0b2d2a6a",
   "metadata": {},
   "outputs": [
    {
     "name": "stdout",
     "output_type": "stream",
     "text": [
      "cuda\n"
     ]
    }
   ],
   "source": [
    "import torch\n",
    "device='cuda' if torch.cuda.is_available else 'cpu'\n",
    "print(device)"
   ]
  },
  {
   "cell_type": "code",
   "execution_count": null,
   "id": "05d7df78",
   "metadata": {},
   "outputs": [
    {
     "name": "stdout",
     "output_type": "stream",
     "text": [
      "cuda\n"
     ]
    }
   ],
   "source": [
    "config=get_config()\n",
    "train_dataloader,val_dataloader,vocab_src,vocab_tgt=get_ds(config)\n",
    "model=get_model(config, vocab_src.get_vocab_size(),vocab_tgt.get_vocab_size()).to(device)\n",
    "model_filename=get_weights_file_path(config,config['preload'])\n",
    "state=torch.load(model_filename)\n",
    "model.load_state_dict(state['model_state_dict'])"
   ]
  },
  {
   "cell_type": "code",
   "execution_count": null,
   "id": "78200235",
   "metadata": {},
   "outputs": [],
   "source": [
    "def load_next_batch():\n",
    "    batch=next(iter(val_dataloader))\n",
    "    encoder_input=batch['encoder_input'].to(device)\n",
    "    encoder_mask=batch['encoder_mask'].to(device)\n",
    "    decoder_input=batch['decoder_input'].to(device)\n",
    "    decoder_mask=batch['decoder_mask'].to(device)\n",
    "\n",
    "    encoder_input_tokens=[vocab_src.id_to_token[idx] for idx in encoder_input[0].cpu().numpy()]\n",
    "    decoder_input_tokens=[vocab_tgt.id_to_token[idx] for idx in decoder_input[0].cpu().numpy()]\n",
    "\n",
    "    model_out=greedy_decode(model,encoder_input,encoder_mask,vocab_src,vocab_tgt,config['seq_len'],device)\n",
    "\n",
    "    return batch,encoder_input,decoder_input_tokens"
   ]
  }
 ],
 "metadata": {
  "kernelspec": {
   "display_name": "pytorch_env",
   "language": "python",
   "name": "python3"
  },
  "language_info": {
   "codemirror_mode": {
    "name": "ipython",
    "version": 3
   },
   "file_extension": ".py",
   "mimetype": "text/x-python",
   "name": "python",
   "nbconvert_exporter": "python",
   "pygments_lexer": "ipython3",
   "version": "3.9.20"
  }
 },
 "nbformat": 4,
 "nbformat_minor": 5
}
