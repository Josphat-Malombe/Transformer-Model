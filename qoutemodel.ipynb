{
 "cells": [
  {
   "cell_type": "code",
   "execution_count": null,
   "id": "94f4169e",
   "metadata": {},
   "outputs": [
    {
     "ename": "ImportError",
     "evalue": "cannot import name 'load_dataset' from 'dataset' (c:\\Users\\Josphat.Malombe\\Transformers\\dataset.py)",
     "output_type": "error",
     "traceback": [
      "\u001b[1;31m---------------------------------------------------------------------------\u001b[0m",
      "\u001b[1;31mImportError\u001b[0m                               Traceback (most recent call last)",
      "Cell \u001b[1;32mIn[4], line 5\u001b[0m\n\u001b[0;32m      3\u001b[0m \u001b[38;5;28;01mimport\u001b[39;00m\u001b[38;5;250m \u001b[39m\u001b[38;5;21;01mtransformers\u001b[39;00m\n\u001b[0;32m      4\u001b[0m \u001b[38;5;28;01mfrom\u001b[39;00m\u001b[38;5;250m \u001b[39m\u001b[38;5;21;01mtransformers\u001b[39;00m\u001b[38;5;250m \u001b[39m\u001b[38;5;28;01mimport\u001b[39;00m AutoTokenizer, AutoModelForCausalLM\n\u001b[1;32m----> 5\u001b[0m \u001b[38;5;28;01mfrom\u001b[39;00m\u001b[38;5;250m \u001b[39m\u001b[38;5;21;01mdataset\u001b[39;00m\u001b[38;5;250m \u001b[39m\u001b[38;5;28;01mimport\u001b[39;00m load_dataset\n\u001b[0;32m      6\u001b[0m \u001b[38;5;28;01mfrom\u001b[39;00m\u001b[38;5;250m \u001b[39m\u001b[38;5;21;01mtransformers\u001b[39;00m\u001b[38;5;250m \u001b[39m\u001b[38;5;28;01mimport\u001b[39;00m BitsAndBytesConfig\n\u001b[0;32m      7\u001b[0m \u001b[38;5;28;01mfrom\u001b[39;00m\u001b[38;5;250m \u001b[39m\u001b[38;5;21;01mpeft\u001b[39;00m\u001b[38;5;250m \u001b[39m\u001b[38;5;28;01mimport\u001b[39;00m LoraConfig\n",
      "\u001b[1;31mImportError\u001b[0m: cannot import name 'load_dataset' from 'dataset' (c:\\Users\\Josphat.Malombe\\Transformers\\dataset.py)"
     ]
    }
   ],
   "source": [
    "#importation-packages\n",
    "import torch\n",
    "import transformers\n",
    "from transformers import AutoTokenizer, AutoModelForCausalLM\n",
    "from datasets import load_dataset\n",
    "from transformers import BitsAndBytesConfig\n",
    "from peft import LoraConfig\n",
    "from trl import SFTTrainer\n",
    "\n"
   ]
  },
  {
   "cell_type": "code",
   "execution_count": null,
   "id": "449db849",
   "metadata": {},
   "outputs": [],
   "source": [
    "hf_token=\"\""
   ]
  },
  {
   "cell_type": "code",
   "execution_count": null,
   "id": "5905483c",
   "metadata": {},
   "outputs": [],
   "source": [
    "#bits and bytes//model id\n",
    "model_id=\"gemma/google-2-2B\"\n",
    "bnb_config=BitsAndBytesConfig(\n",
    "    model_id,\n",
    "    bnb_4bit_quant_type=\"nf4\",\n",
    "    bnb_4bit_compute_dtype=True\n",
    ")"
   ]
  },
  {
   "cell_type": "code",
   "execution_count": null,
   "id": "df3aadc8",
   "metadata": {},
   "outputs": [],
   "source": [
    "#model & tokenizer\n",
    "tokenizer=AutoTokenizer.from_pretrained(model_id, token=hf_token)\n",
    "model=AutoModelForCausalLM.from_pretrained(model_id, quantization_config=bnb_config, token=hf_token)"
   ]
  },
  {
   "cell_type": "code",
   "execution_count": null,
   "id": "9a6a4c45",
   "metadata": {},
   "outputs": [],
   "source": [
    "#lora config"
   ]
  },
  {
   "cell_type": "code",
   "execution_count": null,
   "id": "5aa8abc2",
   "metadata": {},
   "outputs": [],
   "source": [
    "#data"
   ]
  },
  {
   "cell_type": "code",
   "execution_count": null,
   "id": "46e4bf25",
   "metadata": {},
   "outputs": [],
   "source": [
    "#formattting"
   ]
  },
  {
   "cell_type": "code",
   "execution_count": null,
   "id": "6a5bd907",
   "metadata": {},
   "outputs": [],
   "source": [
    "#SFTfinetuning"
   ]
  },
  {
   "cell_type": "code",
   "execution_count": null,
   "id": "df134e9e",
   "metadata": {},
   "outputs": [],
   "source": [
    "#test"
   ]
  }
 ],
 "metadata": {
  "kernelspec": {
   "display_name": "pytorch_env",
   "language": "python",
   "name": "python3"
  },
  "language_info": {
   "codemirror_mode": {
    "name": "ipython",
    "version": 3
   },
   "file_extension": ".py",
   "mimetype": "text/x-python",
   "name": "python",
   "nbconvert_exporter": "python",
   "pygments_lexer": "ipython3",
   "version": "3.9.20"
  }
 },
 "nbformat": 4,
 "nbformat_minor": 5
}
